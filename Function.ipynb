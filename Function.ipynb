{
  "nbformat": 4,
  "nbformat_minor": 0,
  "metadata": {
    "colab": {
      "provenance": []
    },
    "kernelspec": {
      "name": "python3",
      "display_name": "Python 3"
    },
    "language_info": {
      "name": "python"
    }
  },
  "cells": [
    {
      "cell_type": "markdown",
      "source": [
        "Theory Questions:"
      ],
      "metadata": {
        "id": "OTb8RkMEJ3X4"
      }
    },
    {
      "cell_type": "markdown",
      "source": [
        "1: . What is the difference between a function and a method in Python?\n",
        "\n",
        "  >>Function: A function is a block of reusable code that performs a specific task. It can be defined using the def keyword and can be called independently. Functions can exist outside of classes or objects.\n",
        "  \n",
        "  >>Method: A method is a function that is associated with an object (usually a class) and is called on an instance of that class. Methods are always defined inside a class and are used to perform operations related to the instance of that class. They always have at least one parameter, typically self, which refers to the instance of the class."
      ],
      "metadata": {
        "id": "5YULymbFJ5Yy"
      }
    },
    {
      "cell_type": "code",
      "execution_count": 31,
      "metadata": {
        "colab": {
          "base_uri": "https://localhost:8080/"
        },
        "id": "D3ZwxD89B1F8",
        "outputId": "63b3cfb9-5271-49dd-a3b8-c24d14c53fa0"
      },
      "outputs": [
        {
          "output_type": "stream",
          "name": "stdout",
          "text": [
            "Hello, Dilwaz\n",
            "DILWAZ\n"
          ]
        }
      ],
      "source": [
        "# fucntion example\n",
        "def greet(name):\n",
        "    return \"Hello, \" + name\n",
        "\n",
        "print(greet(\"Dilwaz\"))\n",
        "\n",
        "#method example\n",
        "name = \"Dilwaz\"\n",
        "print(name.upper())  # Output: DILWAZ\n",
        "\n"
      ]
    },
    {
      "cell_type": "markdown",
      "source": [
        "2:  Explain the concept of function arguments and parameters in Python.\n",
        "\n",
        "  >>Function Arguments: An argument is the actual value or data you provide to the function when calling it. Arguments are assigned to the parameters when the function is invoked.\n",
        "\n",
        "  >>Function Parameters: A parameter is a variable defined in the function definition that accepts values when the function is called. Think of parameters as placeholders for the values you will pass to the function.\n",
        "\n",
        "\n"
      ],
      "metadata": {
        "id": "WVH3RP1qLqs0"
      }
    },
    {
      "cell_type": "code",
      "source": [
        "def add(a, b):       # a and b are parameters\n",
        "    return a + b\n",
        "\n",
        "result = add(3, 5)   # 3 and 5 are arguments\n",
        "print(result)        # Output: 8\n"
      ],
      "metadata": {
        "colab": {
          "base_uri": "https://localhost:8080/"
        },
        "id": "iWzXktGaNDX5",
        "outputId": "e9b36385-359b-41ac-d9ee-06ef9f0e07cd"
      },
      "execution_count": 32,
      "outputs": [
        {
          "output_type": "stream",
          "name": "stdout",
          "text": [
            "8\n"
          ]
        }
      ]
    },
    {
      "cell_type": "markdown",
      "source": [
        "3: . What are the different ways to define and call a function in Python?\n",
        "\n",
        " >>functions in Python can be defined and called in multiple ways, including:\n",
        "\n",
        "         >Basic Functions\n",
        "\n",
        "         >Functions with Default Arguments\n",
        "\n",
        "         >Functions with Variable-Length Arguments (*args and **kwargs)\n",
        "\n",
        "         >Lambda (Anonymous) Functions\n",
        "\n",
        "         >Recursive Functions\n",
        "\n",
        "         >Nested Functions\n",
        "\n",
        "         >Generator Functions (using yield)"
      ],
      "metadata": {
        "id": "s_CPuSgcNLU6"
      }
    },
    {
      "cell_type": "markdown",
      "source": [
        "4:  What is the purpose of the `return` statement in a Python function?\n",
        "\n",
        "  >>The return statement in a Python function serves two purposes:\n",
        "Exits the function: When a return statement is encountered, the function execution stops, and control is passed back to the caller.\n",
        "\n",
        ">>Returns a value: The return statement can specify a value to be passed back to the caller, allowing the function to provide output or results."
      ],
      "metadata": {
        "id": "ivWD4ouyP0lZ"
      }
    },
    {
      "cell_type": "code",
      "source": [
        "#example of return function\n",
        "def add_numbers(a, b):\n",
        "    result = a + b\n",
        "    return result\n",
        "\n",
        "add_numbers(6,5)"
      ],
      "metadata": {
        "colab": {
          "base_uri": "https://localhost:8080/"
        },
        "id": "qtixdZdZQvWu",
        "outputId": "602df25a-63bf-43da-eec8-9620a09cb4da"
      },
      "execution_count": 34,
      "outputs": [
        {
          "output_type": "execute_result",
          "data": {
            "text/plain": [
              "11"
            ]
          },
          "metadata": {},
          "execution_count": 34
        }
      ]
    },
    {
      "cell_type": "markdown",
      "source": [
        "5:  What are iterators in Python and how do they differ from iterables?\n",
        "\n",
        " >>Iterables:\n",
        "       Definition: Objects that can be looped over (e.g., lists, tuples, strings).\n",
        "       \n",
        "       Key Feature: Can be passed to iter() to get an iterator.\n",
        "\n",
        "       Examples:\n",
        "\n",
        "        python\n",
        "        numbers = [1, 2, 3]  # List (iterable)\n",
        "        text = \"hello\"        # String (iterable)\n",
        "\n",
        "  >>Iterators:\n",
        "   Definition: Objects that produce values one at a time (e.g., range(), file objects).\n",
        "\n",
        "   Key Features:\n",
        "\n",
        "   Implements __iter__() (returns itself) and __next__() (returns the next value).\n",
        "\n",
        "   Raises StopIteration when exhausted.\n",
        "\n",
        "   Examples:\n",
        "\n",
        "   python\n",
        "   numbers_iter = iter([1, 2, 3])  # Iterator from a list\n",
        "   file = open(\"data.txt\")         # File object (iterator)"
      ],
      "metadata": {
        "id": "1JoOoEYlQsnh"
      }
    },
    {
      "cell_type": "markdown",
      "source": [
        "6. Explain the concept of generators in Python and how they are defined.\n",
        "\n",
        "  >>Generators are a special kind of iterator that allow you to iterate over a sequence of values lazily (on-demand) without storing them all in memory. They are defined using yield instead of return and are ideal for handling large datasets or infinite sequences efficiently."
      ],
      "metadata": {
        "id": "5LxC71WHVAM7"
      }
    },
    {
      "cell_type": "code",
      "source": [
        "#example of generators in phython\n",
        "def count_up_to(n):\n",
        "    i = 0\n",
        "    while i <= n:\n",
        "        yield i\n",
        "        i += 1\n",
        "\n",
        "# Usage\n",
        "for num in count_up_to(5):\n",
        "    print(num)"
      ],
      "metadata": {
        "colab": {
          "base_uri": "https://localhost:8080/"
        },
        "id": "4E4jpqvRWS4K",
        "outputId": "fd6728f1-07fb-4c22-ee05-6ea492272023"
      },
      "execution_count": 38,
      "outputs": [
        {
          "output_type": "stream",
          "name": "stdout",
          "text": [
            "0\n",
            "1\n",
            "2\n",
            "3\n",
            "4\n",
            "5\n"
          ]
        }
      ]
    },
    {
      "cell_type": "markdown",
      "source": [
        "7: What are the advantages of using generators over regular functions?\n",
        "\n",
        "  >>Advantages of Generators Over Regular Functions\n",
        "Generators provide several key benefits compared to regular functions, especially when working with large datasets, streams, or infinite sequences. Below are the main advantages with practical examples:\n",
        "\n",
        "   1. Memory Efficiency\n",
        "      Generators produce items one at a time instead of storing everything in memory.\n",
        "\n",
        "       Example: Reading a Large File\n",
        "\n",
        "   2. Lazy Evaluation (On-Demand Computation)\n",
        "      Generators compute values only when needed, improving performance.\n",
        "\n",
        "      Example: Generating Fibonacci Sequence\n",
        "\n",
        "   3. Handling Infinite Sequences\n",
        "      Generators can represent never-ending streams (impossible with regular functions).\n",
        "\n",
        "      Example: Infinite Counter\n",
        "\n",
        "    4. Performance Boost\n",
        "      Generators avoid unnecessary computations by stopping early.\n",
        "\n",
        "      Example: Searching for a Match"
      ],
      "metadata": {
        "id": "8zC01wHwW0aK"
      }
    },
    {
      "cell_type": "markdown",
      "source": [
        "8:  What is a lambda function in Python and when is it typically used?\n",
        "\n",
        "  >>A lambda function (or anonymous function) in Python is a small, single-expression function defined without a name using the lambda keyword. It is typically used for short, throwaway operations where defining a full function would be unnecessary.they are often used for simple operations, such as sorting, filtering, or mapping values."
      ],
      "metadata": {
        "id": "7w5_aKmcZeF0"
      }
    },
    {
      "cell_type": "code",
      "source": [
        "#example of lambda function\n",
        "add = lambda x, y: x + y\n",
        "print(add(3, 5))"
      ],
      "metadata": {
        "colab": {
          "base_uri": "https://localhost:8080/"
        },
        "id": "jyrv-xsQZdJN",
        "outputId": "d459d648-7d13-4493-e3e2-2840084ee8e5"
      },
      "execution_count": 40,
      "outputs": [
        {
          "output_type": "stream",
          "name": "stdout",
          "text": [
            "8\n"
          ]
        }
      ]
    },
    {
      "cell_type": "markdown",
      "source": [
        "9: Explain the purpose and usage of the `map()` function in Python\n",
        "\n",
        "  >>The map() function in Python is used to apply a function to all the items in an iterable (like a list, tuple, or any other iterable). It transforms each element of the iterable by applying the given function to it, and returns an iterator that produces the transformed values. The map() function is often used when you need to perform the same operation on each element of a sequence and return the results as an iterable. When you need to apply the same function to each item in an iterable (or multiple iterables). Usage of map() function in python: When you want to transform or modify each element in a collection. When you want to avoid writing a loop and prefer a more functional approach. When you have multiple iterables and need to process corresponding elements from each iterable simultaneously."
      ],
      "metadata": {
        "id": "M_ajMTskl1wu"
      }
    },
    {
      "cell_type": "code",
      "source": [
        "# example of map function\n",
        "numbers = [1, 2, 3, 4, 5]\n",
        "doubled = list(map(lambda x: x * 2, numbers))\n",
        "print(doubled)\n"
      ],
      "metadata": {
        "colab": {
          "base_uri": "https://localhost:8080/"
        },
        "id": "4WwfBxVZl1I4",
        "outputId": "f1d2edea-b9f3-43a5-c897-5ae2b9f79a21"
      },
      "execution_count": 39,
      "outputs": [
        {
          "output_type": "stream",
          "name": "stdout",
          "text": [
            "[2, 4, 6, 8, 10]\n"
          ]
        }
      ]
    },
    {
      "cell_type": "markdown",
      "source": [
        "10:. What is the difference between `map()`, `reduce()`, and `filter()` functions in Python?\n",
        "\n",
        "  >>The map(), reduce(), and filter() functions in Python are all part of functional programming and are used to process iterables (like lists or tuples) in different ways. While all three functions apply a function to elements of an iterable, they differ in how they process those elements and the results they return.\n",
        "\n",
        "   >map() Function The map() function applies a given function to each item in an iterable (or multiple iterables) and returns an iterator that produces the transformed values.\n",
        "\n",
        "   >filter() Function The filter() function applies a given function to each item in an iterable and returns an iterator containing only the items that satisfy the condition defined by the function (i.e., where the function returns True).\n",
        "    \n",
        "   >reduce() Function The reduce() function is used to apply a binary function (a function that takes two arguments) cumulatively to the items of an iterable, from left to right, so as to reduce the iterable to a single accumulated result."
      ],
      "metadata": {
        "id": "XqIL_tbOmP1s"
      }
    },
    {
      "cell_type": "code",
      "source": [
        "#map function\n",
        "numbers = [1, 2, 3, 4]\n",
        "squared = map(lambda x: x ** 2, numbers)\n",
        "print(list(squared))\n",
        "\n",
        "#filter function\n",
        "numbers = [1, 2, 3, 4, 5, 6]\n",
        "evens = filter(lambda x: x % 2 == 0, numbers)\n",
        "print(list(evens))\n",
        "\n",
        "#reduce function\n",
        "from functools import reduce\n",
        "\n",
        "numbers = [1, 2, 3, 4]\n",
        "product = reduce(lambda x, y: x * y, numbers)\n",
        "print(product)"
      ],
      "metadata": {
        "colab": {
          "base_uri": "https://localhost:8080/"
        },
        "id": "D5J-8p4VmOyR",
        "outputId": "50d9629b-fb14-43e7-8660-f10807de0098"
      },
      "execution_count": 41,
      "outputs": [
        {
          "output_type": "stream",
          "name": "stdout",
          "text": [
            "[1, 4, 9, 16]\n",
            "[2, 4, 6]\n",
            "24\n"
          ]
        }
      ]
    },
    {
      "cell_type": "markdown",
      "source": [
        "Practical Questions:"
      ],
      "metadata": {
        "id": "rurJpyEgrIrz"
      }
    },
    {
      "cell_type": "markdown",
      "source": [
        "1:  Write a Python function that takes a list of numbers as input and returns the sum of all even numbers in\n",
        "the list."
      ],
      "metadata": {
        "id": "0EJoIRAhCI1k"
      }
    },
    {
      "cell_type": "code",
      "source": [
        "def list_numbers(n):\n",
        "  even_numbers=0\n",
        "  for num in n:\n",
        "     if num%2==0:\n",
        "      even_numbers+=num\n",
        "  return even_numbers\n",
        "\n",
        "list_numbers([1,2,3,4,5,6,7,8,9,10])"
      ],
      "metadata": {
        "colab": {
          "base_uri": "https://localhost:8080/"
        },
        "id": "By2xpFQyCCZp",
        "outputId": "b89be2b7-b3a4-4fb2-bcbf-cbb1c6059ef9"
      },
      "execution_count": 12,
      "outputs": [
        {
          "output_type": "execute_result",
          "data": {
            "text/plain": [
              "30"
            ]
          },
          "metadata": {},
          "execution_count": 12
        }
      ]
    },
    {
      "cell_type": "markdown",
      "source": [
        "2:  Create a Python function that accepts a string and returns the reverse of that string."
      ],
      "metadata": {
        "id": "7PM4AaN6F87b"
      }
    },
    {
      "cell_type": "code",
      "source": [
        "def reverse_string(s):\n",
        "  return s[::-1]\n",
        "\n",
        "\n",
        "reverse_string(\"hello\")\n",
        "\n"
      ],
      "metadata": {
        "colab": {
          "base_uri": "https://localhost:8080/",
          "height": 36
        },
        "id": "BNsiWWUsDjGc",
        "outputId": "5038c26a-1f6b-4b76-c537-ee10c668c1ce"
      },
      "execution_count": 18,
      "outputs": [
        {
          "output_type": "execute_result",
          "data": {
            "text/plain": [
              "'olleh'"
            ],
            "application/vnd.google.colaboratory.intrinsic+json": {
              "type": "string"
            }
          },
          "metadata": {},
          "execution_count": 18
        }
      ]
    },
    {
      "cell_type": "markdown",
      "source": [
        "3: Implement a Python function that takes a list of integers and returns a new list containing the squares of\n",
        "each number."
      ],
      "metadata": {
        "id": "m5rZygGkHsiZ"
      }
    },
    {
      "cell_type": "code",
      "source": [
        "square_lambda=lambda l:[x**2 for x in l]\n",
        "\n",
        "square_lambda([1,2,3,4,5,6])"
      ],
      "metadata": {
        "colab": {
          "base_uri": "https://localhost:8080/"
        },
        "id": "vdKxkzhcHRCV",
        "outputId": "988c484b-6962-464e-c8d6-e98521d3a855"
      },
      "execution_count": 37,
      "outputs": [
        {
          "output_type": "execute_result",
          "data": {
            "text/plain": [
              "[1, 4, 9, 16, 25, 36]"
            ]
          },
          "metadata": {},
          "execution_count": 37
        }
      ]
    },
    {
      "cell_type": "markdown",
      "source": [
        "4: Write a Python function that checks if a given number is prime or not from 1 to 200."
      ],
      "metadata": {
        "id": "Q0t0gGdwNzRg"
      }
    },
    {
      "cell_type": "code",
      "source": [
        "is_prime = lambda n: n > 1 and all(n % i != 0 for i in range(2, int(n**0.5) + 1))\n",
        "\n",
        "is_prime(19)"
      ],
      "metadata": {
        "colab": {
          "base_uri": "https://localhost:8080/"
        },
        "id": "IFslB4CuIjFV",
        "outputId": "7a9416d6-abbf-43bb-90de-bfb4c15ebb00"
      },
      "execution_count": 53,
      "outputs": [
        {
          "output_type": "execute_result",
          "data": {
            "text/plain": [
              "True"
            ]
          },
          "metadata": {},
          "execution_count": 53
        }
      ]
    },
    {
      "cell_type": "markdown",
      "source": [
        "5: Create an iterator class in Python that generates the Fibonacci sequence up to a specified number of\n",
        "terms."
      ],
      "metadata": {
        "id": "f4lo0XblZUDM"
      }
    },
    {
      "cell_type": "code",
      "source": [
        "def fib(n):\n",
        "  a=0\n",
        "  b=1\n",
        "  for i in range(n):\n",
        "    yield a\n",
        "    a,b=b,a+b\n",
        "\n",
        "f=fib(10)\n",
        "next(f)\n",
        "next(f)"
      ],
      "metadata": {
        "colab": {
          "base_uri": "https://localhost:8080/"
        },
        "id": "leU19UOUXp05",
        "outputId": "3f3990a0-f4cd-4d23-911e-ac626e102328"
      },
      "execution_count": 5,
      "outputs": [
        {
          "output_type": "execute_result",
          "data": {
            "text/plain": [
              "1"
            ]
          },
          "metadata": {},
          "execution_count": 5
        }
      ]
    },
    {
      "cell_type": "markdown",
      "source": [
        "6: Write a generator function in Python that yields the powers of 2 up to a given exponent."
      ],
      "metadata": {
        "id": "dzyRUPFvK0I9"
      }
    },
    {
      "cell_type": "code",
      "source": [
        "def num_power(n):\n",
        "  for i in range(n+1):\n",
        "    yield 2** i\n",
        "\n",
        "for num in num_power(10):\n",
        "    print(num)\n",
        "\n",
        "\n",
        "\n",
        "\n",
        "\n",
        "\n"
      ],
      "metadata": {
        "colab": {
          "base_uri": "https://localhost:8080/"
        },
        "id": "jFHXYAVlKtVF",
        "outputId": "2999b426-fe46-4532-fe3b-9ae24490757c"
      },
      "execution_count": 41,
      "outputs": [
        {
          "output_type": "stream",
          "name": "stdout",
          "text": [
            "1\n",
            "2\n",
            "4\n",
            "8\n",
            "16\n",
            "32\n",
            "64\n",
            "128\n",
            "256\n",
            "512\n",
            "1024\n"
          ]
        }
      ]
    },
    {
      "cell_type": "markdown",
      "source": [
        "7:  Implement a generator function that reads a file line by line and yields each line as a string."
      ],
      "metadata": {
        "id": "sCxxvGK6PXh5"
      }
    },
    {
      "cell_type": "code",
      "source": [
        "def read_file_line_by_line(file_path):\n",
        "    with open(file_path, 'r', encoding='utf-8') as file:\n",
        "        for line in file:\n",
        "            yield line.rstrip()\n",
        "read_file_line_by_line(\"file.txt\")"
      ],
      "metadata": {
        "colab": {
          "base_uri": "https://localhost:8080/"
        },
        "id": "v7QEaJfjsC2r",
        "outputId": "fb9e5b3c-0810-46e6-f182-7648ebd7f36c"
      },
      "execution_count": 42,
      "outputs": [
        {
          "output_type": "execute_result",
          "data": {
            "text/plain": [
              "<generator object read_file_line_by_line at 0x7f1440b246d0>"
            ]
          },
          "metadata": {},
          "execution_count": 42
        }
      ]
    },
    {
      "cell_type": "markdown",
      "source": [
        "8: Use a lambda function in Python to sort a list of tuples based on the second element of each tuple."
      ],
      "metadata": {
        "id": "PHAga1c4QhJI"
      }
    },
    {
      "cell_type": "code",
      "source": [
        "data=[[1,'Mumbai'],[2,'Kolkata'],[3,'Delhi'],[4,'Ahmedabad'],[5,'Goa']]\n",
        "sorting= sorted(data,key=lambda x: len(x[1]))\n",
        "for item in sorting:\n",
        "     print(item)"
      ],
      "metadata": {
        "colab": {
          "base_uri": "https://localhost:8080/"
        },
        "id": "jspbecdWQfqr",
        "outputId": "c9667e1f-3e9c-458a-ec09-e84c79acdc82"
      },
      "execution_count": 67,
      "outputs": [
        {
          "output_type": "stream",
          "name": "stdout",
          "text": [
            "[5, 'Goa']\n",
            "[3, 'Delhi']\n",
            "[1, 'Mumbai']\n",
            "[2, 'Kolkata']\n",
            "[4, 'Ahmedabad']\n"
          ]
        }
      ]
    },
    {
      "cell_type": "markdown",
      "source": [
        "9:  Write a Python program that uses `map()` to convert a list of temperatures from Celsius to Fahrenheit."
      ],
      "metadata": {
        "id": "8VFQBE5DVbir"
      }
    },
    {
      "cell_type": "code",
      "source": [
        "def convert(n):\n",
        "  return (n*9/5)+32\n",
        "\n",
        "n=([25,66,30])\n",
        "fahrenheit=list(map(convert,n))\n",
        "print(\"celsius in fahrenheit:\",fahrenheit)"
      ],
      "metadata": {
        "colab": {
          "base_uri": "https://localhost:8080/"
        },
        "id": "RUdcOYkXVUKU",
        "outputId": "4e2b1d94-837b-4585-88ef-5c68a05f263b"
      },
      "execution_count": 74,
      "outputs": [
        {
          "output_type": "stream",
          "name": "stdout",
          "text": [
            "celsius in fahrenheit: [77.0, 150.8, 86.0]\n"
          ]
        }
      ]
    },
    {
      "cell_type": "markdown",
      "source": [
        "10: Create a Python program that uses `filter()` to remove all the vowels from a given string."
      ],
      "metadata": {
        "id": "5PCNPDncYBjl"
      }
    },
    {
      "cell_type": "code",
      "source": [
        "l=(['a','o','W','q','U','A','e','p','M'])\n",
        "list(filter(lambda x: x not in \"aeiouAEIOU\",l))\n",
        "\n",
        "\n"
      ],
      "metadata": {
        "colab": {
          "base_uri": "https://localhost:8080/"
        },
        "id": "zn8okF_hX748",
        "outputId": "966f3590-b92c-4fbf-ca46-563b3b048ec7"
      },
      "execution_count": 26,
      "outputs": [
        {
          "output_type": "execute_result",
          "data": {
            "text/plain": [
              "['W', 'q', 'p', 'M']"
            ]
          },
          "metadata": {},
          "execution_count": 26
        }
      ]
    },
    {
      "cell_type": "markdown",
      "source": [
        "11:  Imagine an accounting routine used in a book shop. It works on a list with sublists, which look like this:\n",
        "\n",
        "\n",
        "\n",
        "\n",
        "\n",
        "\n",
        "\n",
        "Write a Python program, which returns a list with 2-tuples. Each tuple consists of the order number and the\n",
        "product of the price per item and the quantity. The product should be increased by 10,- € if the value of the\n",
        "order is smaller than 100,00 €.\n",
        "\n",
        "Write a Python program using lambda and map"
      ],
      "metadata": {
        "id": "GsjNHiYsAc-u"
      }
    },
    {
      "cell_type": "code",
      "source": [
        "orders=[\n",
        "     [34587,\"Learning phython, Mar lutz\",4, 40.95],\n",
        "     [98762,\"Programming Phython, Mark Lutz\",5, 56.80],\n",
        "     [77226,\"Head first Phython, Paul Barry\",3, 32.95],\n",
        "     [88112,\"Einfuhrung in Phython 3, Brend klein\",3, 24.99]\n",
        " ]\n",
        "\n",
        "processed_order=list(\n",
        "    map(\n",
        "         lambda x:(\n",
        "                x[0],\n",
        "                (x[2] * x[3] +10) if (x[2]*x[3])<100\n",
        "                else (x[2]*x[3]),\n",
        "                ),\n",
        "          orders\n",
        "    )\n",
        ")\n",
        "\n",
        "print(processed_order)"
      ],
      "metadata": {
        "colab": {
          "base_uri": "https://localhost:8080/"
        },
        "id": "R3DW7cY7_Ox9",
        "outputId": "00df97f2-2d0c-4f10-c85f-b70d5f4591f2"
      },
      "execution_count": 30,
      "outputs": [
        {
          "output_type": "stream",
          "name": "stdout",
          "text": [
            "[(34587, 163.8), (98762, 284.0), (77226, 108.85000000000001), (88112, 84.97)]\n"
          ]
        }
      ]
    }
  ]
}